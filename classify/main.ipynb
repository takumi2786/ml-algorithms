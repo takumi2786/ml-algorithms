{
 "cells": [
  {
   "cell_type": "code",
   "execution_count": 121,
   "id": "1b0373f3-85cf-4909-8c74-dc070be0fd19",
   "metadata": {},
   "outputs": [
    {
     "name": "stdout",
     "output_type": "stream",
     "text": [
      "Requirement already satisfied: torch in /home/takumi/.pyenv/versions/3.8.8/lib/python3.8/site-packages (1.10.2+cu113)\n",
      "Requirement already satisfied: torchvision in /home/takumi/.pyenv/versions/3.8.8/lib/python3.8/site-packages (0.11.3+cu113)\n",
      "Collecting torchsummary\n",
      "  Downloading torchsummary-1.5.1-py3-none-any.whl (2.8 kB)\n",
      "Requirement already satisfied: typing-extensions in /home/takumi/.pyenv/versions/3.8.8/lib/python3.8/site-packages (from torch) (4.0.1)\n",
      "Requirement already satisfied: numpy in /home/takumi/.pyenv/versions/3.8.8/lib/python3.8/site-packages (from torchvision) (1.20.3)\n",
      "Requirement already satisfied: pillow!=8.3.0,>=5.3.0 in /home/takumi/.pyenv/versions/3.8.8/lib/python3.8/site-packages (from torchvision) (9.0.0)\n",
      "Installing collected packages: torchsummary\n",
      "Successfully installed torchsummary-1.5.1\n",
      "\u001b[33mWARNING: You are using pip version 21.3.1; however, version 22.1.2 is available.\n",
      "You should consider upgrading via the '/home/takumi/.pyenv/versions/3.8.8/bin/python3.8 -m pip install --upgrade pip' command.\u001b[0m\n"
     ]
    }
   ],
   "source": [
    "!pip install torch torchvision torchsummary"
   ]
  },
  {
   "cell_type": "code",
   "execution_count": 1,
   "id": "e5e00e3e-ab03-4e01-9b7e-ef167b188648",
   "metadata": {},
   "outputs": [],
   "source": [
    "from __future__ import print_function\n",
    "import torch\n",
    "import torch.nn as nn\n",
    "import torch.nn.functional as F\n",
    "import torch.optim as optim\n",
    "from torchvision import datasets, transforms\n",
    "from torch.optim.lr_scheduler import StepLR\n",
    "import os\n",
    "import shutil\n",
    "import glob\n",
    "import os\n",
    "\n",
    "from PIL import Image\n",
    "import torch.utils as utils\n",
    "from torchvision import models\n",
    "from torchsummary import summary"
   ]
  },
  {
   "cell_type": "code",
   "execution_count": 3,
   "id": "68931cb8",
   "metadata": {},
   "outputs": [
    {
     "name": "stdout",
     "output_type": "stream",
     "text": [
      "24\n"
     ]
    }
   ],
   "source": [
    "# 畳み込み層の出力サイズを計算する\n",
    "def conv_shape(input_size, padding, stride, kernel_size):\n",
    "\treturn (input_size + 2*padding - kernel_size)//stride + 1\n",
    "\n",
    "size = conv_shape(input_size=28, padding=0, stride=1, kernel_size=3)\n",
    "size = conv_shape(input_size=size, padding=0, stride=1, kernel_size=3)\n",
    "print(size)"
   ]
  },
  {
   "cell_type": "code",
   "execution_count": 66,
   "id": "7dbe3ccd",
   "metadata": {},
   "outputs": [
    {
     "data": {
      "text/plain": [
       "9216"
      ]
     },
     "execution_count": 66,
     "metadata": {},
     "output_type": "execute_result"
    }
   ],
   "source": [
    "12*12*64"
   ]
  },
  {
   "cell_type": "code",
   "execution_count": 6,
   "id": "95ca39a6",
   "metadata": {},
   "outputs": [
    {
     "name": "stdout",
     "output_type": "stream",
     "text": [
      "torch.Size([32, 1, 28, 28]) torch.Size([32])\n"
     ]
    }
   ],
   "source": [
    "USE_MNIST = True\n",
    "CHANNEL = 1\n",
    "INPUT_SIZE = 28\n",
    "NUM_CLASSES = 10\n",
    "if USE_MNIST:\n",
    "    ## Mnist\n",
    "    INPUT_PATH = \"/tmp/inputs/data\"\n",
    "    OUTPUT_PATH = \"/tmp/result/data\"\n",
    "\n",
    "\n",
    "    # Mnistのデータセット\n",
    "    batch_size = 32\n",
    "    test_batch_size = 32\n",
    "    train_kwargs = {\"batch_size\": batch_size}\n",
    "    test_kwargs = {\"batch_size\": test_batch_size}\n",
    "\n",
    "    transform = transforms.Compose(\n",
    "        [transforms.ToTensor(), transforms.Normalize((0.1307,), (0.3081,))]\n",
    "    )\n",
    "    # データセットを準備する\n",
    "    dataset1 = datasets.MNIST(\n",
    "        INPUT_PATH, train=True, download=True, transform=transform\n",
    "    )\n",
    "    dataset2 = datasets.MNIST(INPUT_PATH, train=False, transform=transform)\n",
    "    train_loader = torch.utils.data.DataLoader(dataset1, **train_kwargs)\n",
    "    test_loader = torch.utils.data.DataLoader(dataset2, **test_kwargs)\n",
    "\n",
    "    if True:\n",
    "        for data, labels in train_loader:\n",
    "            print(data.shape, labels.shape)\n",
    "            break"
   ]
  },
  {
   "cell_type": "code",
   "execution_count": 9,
   "id": "d1390c41",
   "metadata": {},
   "outputs": [],
   "source": [
    "## 自作データ\n",
    "USE_TAKUMI_CLASSIFY = False\n",
    "CHANNEL = 3\n",
    "INPUT_SIZE = 256\n",
    "NUM_CLASSES = 2\n",
    "\n",
    "if USE_TAKUMI_CLASSIFY:\n",
    "    class MyDatasets(torch.utils.data.Dataset):\n",
    "        def __init__(self, root_dir, key, transform):\n",
    "            self.transform = transform\n",
    "            self.data = []\n",
    "            self.labels = []\n",
    "            name_to_label = {\"takumi\": 0, \"other\": 1}\n",
    "\n",
    "            target_path_list = []\n",
    "            target_dir = os.path.join(root_dir, key, \"**/*\")\n",
    "            print(target_dir)\n",
    "\n",
    "            for path in glob.glob(target_dir):\n",
    "                name = os.path.basename(os.path.dirname(path))\n",
    "                label = name_to_label[name]\n",
    "\n",
    "                self.data.append(path)\n",
    "                self.labels.append(label)\n",
    "\n",
    "        def __len__(self):\n",
    "            return len(self.data)\n",
    "\n",
    "        def __getitem__(self, index):\n",
    "            img_path = self.data[index]\n",
    "            label = self.labels[index]\n",
    "\n",
    "            img = Image.open(img_path).convert(\"RGB\")\n",
    "\n",
    "            img = self.transform(img)\n",
    "\n",
    "            return img, label\n",
    "\n",
    "    # DATASET_PATH = \"/home/jovyan/data\"\n",
    "    DATASET_PATH = \"/mnt/data/lake/TakumiClassify\"\n",
    "\n",
    "    transform = transforms.Compose([transforms.Resize((INPUT_SIZE, INPUT_SIZE)), transforms.ToTensor()])\n",
    "    train_dataset = MyDatasets(DATASET_PATH, \"train\", transform)\n",
    "    train_loader = torch.utils.data.DataLoader(train_dataset, batch_size=8)\n",
    "    test_dataset = MyDatasets(DATASET_PATH, \"test\", transform)\n",
    "    test_loader = torch.utils.data.DataLoader(test_dataset, batch_size=8)\n",
    "\n",
    "\n",
    "    if True:\n",
    "        for data, labels in train_loader:\n",
    "            print(data.shape, labels.shape)\n",
    "            break"
   ]
  },
  {
   "cell_type": "code",
   "execution_count": 7,
   "id": "e4a1f34b-2479-4439-97c2-51b7ae413d05",
   "metadata": {},
   "outputs": [],
   "source": [
    "## 自作モデル\n",
    "USE_MY_MODEL=False\n",
    "if USE_MY_MODEL:\n",
    "    class Net(nn.Module):\n",
    "        def __init__(self, channel=1, input_size=28, num_class=10):\n",
    "            super(Net, self).__init__()\n",
    "            self.conv1 = nn.Conv2d(channel, 32, 3, 1) # 入力チャンネルは、画像タイプに合わせて変える\n",
    "            self.conv2 = nn.Conv2d(32, 64, 3, 1)\n",
    "            self.dropout1 = nn.Dropout(0.25)\n",
    "            self.dropout2 = nn.Dropout(0.5)\n",
    "            fc1_in_features = self._calc_fc1_in_features(input_size)\n",
    "            self.fc1 = nn.Linear(fc1_in_features, 128)\n",
    "            self.fc2 = nn.Linear(128, num_class)\n",
    "\n",
    "        def forward(self, x):\n",
    "            x = self.conv1(x)# 28\n",
    "            x = F.relu(x)\n",
    "            x = self.conv2(x)# 24\n",
    "            x = F.relu(x)\n",
    "            x = F.max_pool2d(x, 2)# 12\n",
    "            x = self.dropout1(x)\n",
    "            x = torch.flatten(x, 1)\n",
    "            x = self.fc1(x)\n",
    "            x = F.relu(x)\n",
    "            x = self.dropout2(x)\n",
    "            x = self.fc2(x)\n",
    "            output = F.log_softmax(x, dim=1)\n",
    "            return output\n",
    "\n",
    "        def _conv_shape(self, input_size, padding, stride, kernel_size):\n",
    "            return (input_size + 2*padding - kernel_size)//stride + 1\n",
    "\n",
    "        def _calc_fc1_in_features(self, input_size):\n",
    "            # NOTE: モデル構造に依存するので注意\n",
    "            conv1_out_size = self._conv_shape(input_size=input_size, padding=0, stride=1, kernel_size=3)\n",
    "            conv2_out_size = self._conv_shape(input_size=conv1_out_size, padding=0, stride=1, kernel_size=3)\n",
    "            max_pool2d_out_size = conv2_out_size/2\n",
    "            return int(max_pool2d_out_size * max_pool2d_out_size * 64)\n"
   ]
  },
  {
   "cell_type": "code",
   "execution_count": 5,
   "id": "6b7191ce",
   "metadata": {},
   "outputs": [
    {
     "name": "stdout",
     "output_type": "stream",
     "text": [
      "torch.Size([1, 3, 64, 64])\n",
      "torch.Size([1, 2])\n",
      "tensor([[-0.6734, -0.7133]], grad_fn=<LogSoftmaxBackward0>)\n"
     ]
    }
   ],
   "source": [
    "## デバッグ\n",
    "if USE_MY_MODEL:\n",
    "\tinput_size = 64\n",
    "\tmodel = Net(channel=3, input_size=input_size)\n",
    "\n",
    "\tinput_img = torch.rand(1, 3, input_size, input_size)\n",
    "\tres = model(input_img)\n",
    "\tprint(input_img.shape)\n",
    "\tprint(res.shape)\n",
    "\tprint(res)\n"
   ]
  },
  {
   "cell_type": "code",
   "execution_count": 12,
   "id": "60f555e8",
   "metadata": {},
   "outputs": [],
   "source": [
    "## VGG\n",
    "USE_VGG=True\n",
    "if USE_VGG:\n",
    "\tdef get_vgg():\n",
    "\t\tvgg19 = models.vgg19(pretrained=True)\n",
    "\t\tvgg19.classifier[6] = nn.Linear(in_features=4096, out_features=NUM_CLASSES)\n",
    "\t\treturn vgg19\n",
    "\n",
    "\n"
   ]
  },
  {
   "cell_type": "code",
   "execution_count": 11,
   "id": "5fac7dfa-5b59-4206-8c64-504c5f89dc1c",
   "metadata": {},
   "outputs": [
    {
     "ename": "NameError",
     "evalue": "name 'USE_VGG' is not defined",
     "output_type": "error",
     "traceback": [
      "\u001b[0;31m---------------------------------------------------------------------------\u001b[0m",
      "\u001b[0;31mNameError\u001b[0m                                 Traceback (most recent call last)",
      "\u001b[1;32m/home/takumi/Workspace/takumilab/kubeflow/ml-algorithms/classify/main.ipynb Cell 10'\u001b[0m in \u001b[0;36m<cell line: 2>\u001b[0;34m()\u001b[0m\n\u001b[1;32m      <a href='vscode-notebook-cell:/home/takumi/Workspace/takumilab/kubeflow/ml-algorithms/classify/main.ipynb#ch0000006?line=0'>1</a>\u001b[0m \u001b[39m## デバッグ\u001b[39;00m\n\u001b[0;32m----> <a href='vscode-notebook-cell:/home/takumi/Workspace/takumilab/kubeflow/ml-algorithms/classify/main.ipynb#ch0000006?line=1'>2</a>\u001b[0m \u001b[39mif\u001b[39;00m USE_VGG:\n\u001b[1;32m      <a href='vscode-notebook-cell:/home/takumi/Workspace/takumilab/kubeflow/ml-algorithms/classify/main.ipynb#ch0000006?line=2'>3</a>\u001b[0m \tinput_size \u001b[39m=\u001b[39m \u001b[39m224\u001b[39m\n\u001b[1;32m      <a href='vscode-notebook-cell:/home/takumi/Workspace/takumilab/kubeflow/ml-algorithms/classify/main.ipynb#ch0000006?line=4'>5</a>\u001b[0m \tinput_img \u001b[39m=\u001b[39m torch\u001b[39m.\u001b[39mrand(\u001b[39m1\u001b[39m, \u001b[39m3\u001b[39m, input_size, input_size)\n",
      "\u001b[0;31mNameError\u001b[0m: name 'USE_VGG' is not defined"
     ]
    }
   ],
   "source": [
    "## デバッグ\n",
    "if USE_VGG:\n",
    "\tinput_size = 224\n",
    "\n",
    "\tinput_img = torch.rand(1, 3, input_size, input_size)\n",
    "\tmodel = get_vgg()\n",
    "\tres = model(input_img)\n",
    "\tprint(res.shape)\n",
    "\n",
    "\tmodel.to(\"cuda\")\n",
    "\tsummary(model, (3,input_size,input_size))"
   ]
  },
  {
   "cell_type": "code",
   "execution_count": 13,
   "id": "788b4518",
   "metadata": {},
   "outputs": [],
   "source": [
    "# 学習\n",
    "def train(log_interval, model, device, train_loader, optimizer, epoch):\n",
    "    model.train()\n",
    "    for batch_idx, (data, target) in enumerate(train_loader):\n",
    "        data, target = data.to(device), target.to(device)\n",
    "        optimizer.zero_grad()\n",
    "        output = model(data)\n",
    "        loss = F.nll_loss(output, target)\n",
    "        loss.backward()\n",
    "        optimizer.step()\n",
    "        if batch_idx % log_interval == 0:\n",
    "            print(\n",
    "                \"Train Epoch: {} [{}/{} ({:.0f}%)]\\tLoss: {:.6f}\".format(\n",
    "                    epoch,\n",
    "                    batch_idx * len(data),\n",
    "                    len(train_loader.dataset),\n",
    "                    100.0 * batch_idx / len(train_loader),\n",
    "                    loss.item(),\n",
    "                )\n",
    "            )\n",
    "\n",
    "# 評価\n",
    "def test(model, device, test_loader):\n",
    "    model.eval()\n",
    "    test_loss = 0\n",
    "    correct = 0\n",
    "    with torch.no_grad():\n",
    "        for data, target in test_loader:\n",
    "            data, target = data.to(device), target.to(device)\n",
    "            output = model(data)\n",
    "            test_loss += F.nll_loss(\n",
    "                output, target, reduction=\"sum\"\n",
    "            ).item()  # sum up batch loss\n",
    "            pred = output.argmax(\n",
    "                dim=1, keepdim=True\n",
    "            )  # get the index of the max log-probability\n",
    "            correct += pred.eq(target.view_as(pred)).sum().item()\n",
    "\n",
    "    test_loss /= len(test_loader.dataset)\n",
    "\n",
    "    print(\n",
    "        \"\\nTest set: Average loss: {:.4f}, Accuracy: {}/{} ({:.0f}%)\\n\".format(\n",
    "            test_loss,\n",
    "            correct,\n",
    "            len(test_loader.dataset),\n",
    "            100.0 * correct / len(test_loader.dataset),\n",
    "        )\n",
    "    )"
   ]
  },
  {
   "cell_type": "code",
   "execution_count": 16,
   "id": "621af0fb",
   "metadata": {},
   "outputs": [
    {
     "data": {
      "text/plain": [
       "True"
      ]
     },
     "execution_count": 16,
     "metadata": {},
     "output_type": "execute_result"
    }
   ],
   "source": [
    "USE_MY_MODEL"
   ]
  },
  {
   "cell_type": "code",
   "execution_count": 14,
   "id": "69b42721",
   "metadata": {},
   "outputs": [
    {
     "name": "stdout",
     "output_type": "stream",
     "text": [
      "Train Epoch: 1 [0/60000 (0%)]\tLoss: 2.315488\n",
      "\n",
      "Test set: Average loss: 1.0988, Accuracy: 8181/10000 (82%)\n",
      "\n",
      "Train Epoch: 2 [0/60000 (0%)]\tLoss: 1.430103\n",
      "\n",
      "Test set: Average loss: 0.6332, Accuracy: 8621/10000 (86%)\n",
      "\n",
      "Train Epoch: 3 [0/60000 (0%)]\tLoss: 0.791315\n",
      "\n",
      "Test set: Average loss: 0.5133, Accuracy: 8755/10000 (88%)\n",
      "\n",
      "Train Epoch: 4 [0/60000 (0%)]\tLoss: 0.577979\n",
      "\n",
      "Test set: Average loss: 0.4646, Accuracy: 8830/10000 (88%)\n",
      "\n",
      "Train Epoch: 5 [0/60000 (0%)]\tLoss: 0.789992\n",
      "\n",
      "Test set: Average loss: 0.4399, Accuracy: 8865/10000 (89%)\n",
      "\n"
     ]
    }
   ],
   "source": [
    "## 学習\n",
    "epochs = 5\n",
    "log_interval = 10000\n",
    "\n",
    "device = torch.device(\"cuda\" if torch.cuda.is_available() else \"cpu\")\n",
    "\n",
    "# if device == \"cuda\":\n",
    "# \tcuda_kwargs = {\"num_workers\": 1, \"pin_memory\": True, \"shuffle\": True}\n",
    "\n",
    "if USE_MY_MODEL:\n",
    "\tmodel = Net(channel=CHANNEL, input_size=INPUT_SIZE, num_class=NUM_CLASSES)\n",
    "\tmodel.to(device)\n",
    "elif USE_VGG:\n",
    "\tmodel = get_vgg()\n",
    "\tmodel.to(device)\n",
    "\n",
    "\n",
    "optimizer = optim.Adadelta(model.parameters(), lr=0.001)\n",
    "\n",
    "scheduler = StepLR(optimizer, step_size=1, gamma=0.7)\n",
    "for epoch in range(1, epochs + 1):\n",
    "\ttrain(log_interval, model, device, train_loader, optimizer, epoch)\n",
    "\ttest(model, device, test_loader)\n",
    "\tscheduler.step()\n"
   ]
  },
  {
   "cell_type": "code",
   "execution_count": 44,
   "id": "2fde753f",
   "metadata": {},
   "outputs": [
    {
     "data": {
      "text/plain": [
       "device(type='cuda')"
      ]
     },
     "execution_count": 44,
     "metadata": {},
     "output_type": "execute_result"
    }
   ],
   "source": [
    "device"
   ]
  },
  {
   "cell_type": "code",
   "execution_count": 45,
   "id": "d79ddff8",
   "metadata": {},
   "outputs": [
    {
     "data": {
      "text/plain": [
       "256"
      ]
     },
     "execution_count": 45,
     "metadata": {},
     "output_type": "execute_result"
    }
   ],
   "source": [
    "128*2\n"
   ]
  },
  {
   "cell_type": "code",
   "execution_count": null,
   "id": "cbecf6e5",
   "metadata": {},
   "outputs": [],
   "source": []
  }
 ],
 "metadata": {
  "kernelspec": {
   "display_name": "Python 3",
   "language": "python",
   "name": "python3"
  },
  "language_info": {
   "codemirror_mode": {
    "name": "ipython",
    "version": 3
   },
   "file_extension": ".py",
   "mimetype": "text/x-python",
   "name": "python",
   "nbconvert_exporter": "python",
   "pygments_lexer": "ipython3",
   "version": "3.8.8"
  }
 },
 "nbformat": 4,
 "nbformat_minor": 5
}
