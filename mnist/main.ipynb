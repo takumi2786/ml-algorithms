{
 "cells": [
  {
   "cell_type": "code",
   "execution_count": null,
   "id": "1b0373f3-85cf-4909-8c74-dc070be0fd19",
   "metadata": {},
   "outputs": [],
   "source": [
    "!pip install torch torchvision"
   ]
  },
  {
   "cell_type": "code",
   "execution_count": 1,
   "id": "e5e00e3e-ab03-4e01-9b7e-ef167b188648",
   "metadata": {},
   "outputs": [],
   "source": [
    "from __future__ import print_function\n",
    "import torch\n",
    "import torch.nn as nn\n",
    "import torch.nn.functional as F\n",
    "import torch.optim as optim\n",
    "from torchvision import datasets, transforms\n",
    "from torch.optim.lr_scheduler import StepLR\n",
    "import os\n",
    "import shutil"
   ]
  },
  {
   "cell_type": "code",
   "execution_count": 8,
   "id": "e4a1f34b-2479-4439-97c2-51b7ae413d05",
   "metadata": {},
   "outputs": [],
   "source": [
    "class Net(nn.Module):\n",
    "    def __init__(self):\n",
    "        super(Net, self).__init__()\n",
    "        self.conv1 = nn.Conv2d(1, 32, 3, 1)\n",
    "        self.conv2 = nn.Conv2d(32, 64, 3, 1)\n",
    "        self.dropout1 = nn.Dropout(0.25)\n",
    "        self.dropout2 = nn.Dropout(0.5)\n",
    "        self.fc1 = nn.Linear(9216, 128)\n",
    "        self.fc2 = nn.Linear(128, 10)\n",
    "\n",
    "    def forward(self, x):\n",
    "        x = self.conv1(x)\n",
    "        x = F.relu(x)\n",
    "        x = self.conv2(x)\n",
    "        x = F.relu(x)\n",
    "        x = F.max_pool2d(x, 2)\n",
    "        x = self.dropout1(x)\n",
    "        x = torch.flatten(x, 1)\n",
    "        x = self.fc1(x)\n",
    "        x = F.relu(x)\n",
    "        x = self.dropout2(x)\n",
    "        x = self.fc2(x)\n",
    "        output = F.log_softmax(x, dim=1)\n",
    "        return output"
   ]
  },
  {
   "cell_type": "code",
   "execution_count": 10,
   "id": "5fac7dfa-5b59-4206-8c64-504c5f89dc1c",
   "metadata": {},
   "outputs": [
    {
     "name": "stdout",
     "output_type": "stream",
     "text": [
      "torch.Size([1, 1, 28, 28])\n",
      "torch.Size([1, 10])\n",
      "tensor([[-2.2693, -2.3185, -2.2365, -2.2959, -2.3251, -2.3361, -2.3695, -2.2500,\n",
      "         -2.3161, -2.3163]], grad_fn=<LogSoftmaxBackward0>)\n"
     ]
    }
   ],
   "source": [
    "# デバッグ\n",
    "model = Net()\n",
    "\n",
    "input_img = torch.rand(1, 1, 28, 28)\n",
    "res = model(input_img)\n",
    "print(input_img.shape)\n",
    "print(res.shape)\n",
    "print(res)"
   ]
  },
  {
   "cell_type": "code",
   "execution_count": 11,
   "id": "95ca39a6",
   "metadata": {},
   "outputs": [],
   "source": [
    "## Mnist\n",
    "INPUT_PATH = \"/tmp/inputs/data\"\n",
    "OUTPUT_PATH = \"/tmp/result/data\"\n",
    "\n",
    "\n",
    "# Mnistのデータセット\n",
    "batch_size = 1\n",
    "test_batch_size = 1\n",
    "train_kwargs = {\"batch_size\": batch_size}\n",
    "test_kwargs = {\"batch_size\": test_batch_size}\n",
    "\n",
    "transform = transforms.Compose(\n",
    "    [transforms.ToTensor(), transforms.Normalize((0.1307,), (0.3081,))]\n",
    ")\n",
    "# データセットを準備する\n",
    "dataset1 = datasets.MNIST(\n",
    "    INPUT_PATH, train=True, download=True, transform=transform\n",
    ")\n",
    "dataset2 = datasets.MNIST(INPUT_PATH, train=False, transform=transform)\n",
    "train_loader = torch.utils.data.DataLoader(dataset1, **train_kwargs)\n",
    "test_loader = torch.utils.data.DataLoader(dataset2, **test_kwargs)"
   ]
  },
  {
   "cell_type": "code",
   "execution_count": 12,
   "id": "788b4518",
   "metadata": {},
   "outputs": [],
   "source": [
    "# 学習を実行する\n",
    "def train(log_interval, model, device, train_loader, optimizer, epoch):\n",
    "    model.train()\n",
    "    for batch_idx, (data, target) in enumerate(train_loader):\n",
    "        data, target = data.to(device), target.to(device)\n",
    "        optimizer.zero_grad()\n",
    "        output = model(data)\n",
    "        loss = F.nll_loss(output, target)\n",
    "        loss.backward()\n",
    "        optimizer.step()\n",
    "        if batch_idx % log_interval == 0:\n",
    "            print(\n",
    "                \"Train Epoch: {} [{}/{} ({:.0f}%)]\\tLoss: {:.6f}\".format(\n",
    "                    epoch,\n",
    "                    batch_idx * len(data),\n",
    "                    len(train_loader.dataset),\n",
    "                    100.0 * batch_idx / len(train_loader),\n",
    "                    loss.item(),\n",
    "                )\n",
    "            )"
   ]
  },
  {
   "cell_type": "code",
   "execution_count": 18,
   "id": "69b42721",
   "metadata": {},
   "outputs": [
    {
     "name": "stdout",
     "output_type": "stream",
     "text": [
      "Train Epoch: 1 [0/60000 (0%)]\tLoss: 2.170001\n",
      "Train Epoch: 1 [10000/60000 (17%)]\tLoss: 1.075408\n",
      "Train Epoch: 1 [20000/60000 (33%)]\tLoss: 2.205270\n",
      "Train Epoch: 1 [30000/60000 (50%)]\tLoss: 0.208055\n",
      "Train Epoch: 1 [40000/60000 (67%)]\tLoss: 0.040972\n",
      "Train Epoch: 1 [50000/60000 (83%)]\tLoss: 0.349903\n"
     ]
    }
   ],
   "source": [
    "## 学習\n",
    "epochs = 1\n",
    "log_interval = 10000\n",
    "train_kwargs = {\"batch_size\": 64}\n",
    "test_kwargs = {\"batch_size\": 16}\n",
    "device = torch.device(\"cuda\" if torch.cuda.is_available() else \"cpu\")\n",
    "\n",
    "if device == \"cuda\":\n",
    "\tcuda_kwargs = {\"num_workers\": 1, \"pin_memory\": True, \"shuffle\": True}\n",
    "\ttrain_kwargs.update(cuda_kwargs)\n",
    "\ttest_kwargs.update(cuda_kwargs)\n",
    "model = Net().to(device)\n",
    "optimizer = optim.Adadelta(model.parameters(), lr=0.001)\n",
    "\n",
    "scheduler = StepLR(optimizer, step_size=1, gamma=0.7)\n",
    "for epoch in range(1, epochs + 1):\n",
    "\ttrain(log_interval, model, device, train_loader, optimizer, epoch)\n",
    "\t# test(model, device, test_loader)\n",
    "\tscheduler.step()\n"
   ]
  },
  {
   "cell_type": "code",
   "execution_count": 14,
   "id": "2fde753f",
   "metadata": {},
   "outputs": [
    {
     "data": {
      "text/plain": [
       "True"
      ]
     },
     "execution_count": 14,
     "metadata": {},
     "output_type": "execute_result"
    }
   ],
   "source": [
    "torch.cuda.is_available()"
   ]
  },
  {
   "cell_type": "code",
   "execution_count": null,
   "id": "d79ddff8",
   "metadata": {},
   "outputs": [],
   "source": []
  }
 ],
 "metadata": {
  "kernelspec": {
   "display_name": "Python 3",
   "language": "python",
   "name": "python3"
  },
  "language_info": {
   "codemirror_mode": {
    "name": "ipython",
    "version": 3
   },
   "file_extension": ".py",
   "mimetype": "text/x-python",
   "name": "python",
   "nbconvert_exporter": "python",
   "pygments_lexer": "ipython3",
   "version": "3.8.8"
  }
 },
 "nbformat": 4,
 "nbformat_minor": 5
}
