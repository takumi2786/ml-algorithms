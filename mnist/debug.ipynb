{
 "cells": [
  {
   "cell_type": "code",
   "execution_count": null,
   "metadata": {},
   "outputs": [],
   "source": [
    "# データの確認\n",
    "\n",
    "from __future__ import print_function\n",
    "import argparse\n",
    "import torch\n",
    "import torch.nn as nn_\n",
    "import torch.nn.functional as F\n",
    "import torch.optim as optim\n",
    "from torchvision import datasets, transforms\n",
    "from torch.optim.lr_scheduler import StepLR\n",
    "\n",
    "INPUT_PATH = \"/tmp/inputs/data\"\n",
    "OUTPUT_PATH = \"/tmp/result/data\"\n",
    "\n",
    "# データを確認する\n",
    "import numpy as np\n",
    "import cv2\n",
    "from matplotlib import pyplot as plt\n",
    "train_kwargs = {\"batch_size\": 5}\n",
    "test_kwargs = {\"batch_size\": 5}\n",
    "transform = transforms.Compose(\n",
    "\t[\n",
    "\t\ttransforms.ToTensor(), \n",
    "\t\ttransforms.Normalize((0.1307,), (0.3081,))\n",
    "\t]\n",
    ")\n",
    "dataset1 = datasets.MNIST(\n",
    "\tINPUT_PATH, train=True, download=True, transform=transform\n",
    ")\n",
    "dataset2 = datasets.MNIST(INPUT_PATH, train=False, transform=transform)\n",
    "train_loader = torch.utils.data.DataLoader(dataset1, **train_kwargs)\n",
    "test_loader = torch.utils.data.DataLoader(dataset2, **test_kwargs)\n",
    "\n",
    "cnt = 1\n",
    "for data, target in train_loader:\n",
    "\timage_1 = np.array(data[:][0][0])\n",
    "\tfig, ax = plt.subplots()\n",
    "\tax.imshow(image_1)\n",
    "\n",
    "\tcnt += 1\n",
    "\tif cnt > 5:\n",
    "\t\tbreak"
   ]
  },
  {
   "cell_type": "code",
   "execution_count": null,
   "metadata": {},
   "outputs": [],
   "source": [
    "\n",
    "# モデルの読み込み\n",
    "\n",
    "\n",
    "# 推論の実行\n",
    "\n"
   ]
  }
 ],
 "metadata": {
  "interpreter": {
   "hash": "bdccf0c2476f06f4fd4dab9b5db846877088a6173fb332b611b75c06d75ed654"
  },
  "kernelspec": {
   "display_name": "Python 3.8.10 ('.venv': pipenv)",
   "language": "python",
   "name": "python3"
  },
  "language_info": {
   "codemirror_mode": {
    "name": "ipython",
    "version": 3
   },
   "file_extension": ".py",
   "mimetype": "text/x-python",
   "name": "python",
   "nbconvert_exporter": "python",
   "pygments_lexer": "ipython3",
   "version": "3.8.10"
  },
  "orig_nbformat": 4
 },
 "nbformat": 4,
 "nbformat_minor": 2
}
